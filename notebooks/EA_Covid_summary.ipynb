{
 "cells": [
  {
   "cell_type": "code",
   "execution_count": 1,
   "id": "947fa16e",
   "metadata": {},
   "outputs": [],
   "source": [
    "# Instalação das bibliotecas\n",
    "import pandas as pd \n",
    "import matplotlib.pyplot as plt\n",
    "import numpy as np"
   ]
  },
  {
   "cell_type": "code",
   "execution_count": 2,
   "id": "80ba33da",
   "metadata": {},
   "outputs": [
    {
     "data": {
      "text/plain": [
       "Entity          object\n",
       "Code            object\n",
       "Day             object\n",
       "Weekly cases     int64\n",
       "dtype: object"
      ]
     },
     "execution_count": 2,
     "metadata": {},
     "output_type": "execute_result"
    }
   ],
   "source": [
    "# Criação do DF\n",
    "covid_summary = pd.read_csv(r\"C:\\Users\\Marcelo Cabral\\OneDrive\\Documentos\\Estudos\\Data_Engineering\\covid19-pipeline\\data\\raw\\covid_summary_20251101_015113.csv\")\n",
    "covid_summary.dtypes"
   ]
  },
  {
   "cell_type": "code",
   "execution_count": 4,
   "id": "18da9d3b",
   "metadata": {},
   "outputs": [
    {
     "data": {
      "text/html": [
       "<div>\n",
       "<style scoped>\n",
       "    .dataframe tbody tr th:only-of-type {\n",
       "        vertical-align: middle;\n",
       "    }\n",
       "\n",
       "    .dataframe tbody tr th {\n",
       "        vertical-align: top;\n",
       "    }\n",
       "\n",
       "    .dataframe thead th {\n",
       "        text-align: right;\n",
       "    }\n",
       "</style>\n",
       "<table border=\"1\" class=\"dataframe\">\n",
       "  <thead>\n",
       "    <tr style=\"text-align: right;\">\n",
       "      <th></th>\n",
       "      <th>Entity</th>\n",
       "      <th>Code</th>\n",
       "      <th>Day</th>\n",
       "      <th>Weekly cases</th>\n",
       "    </tr>\n",
       "  </thead>\n",
       "  <tbody>\n",
       "    <tr>\n",
       "      <th>0</th>\n",
       "      <td>Afghanistan</td>\n",
       "      <td>AFG</td>\n",
       "      <td>2020-01-09</td>\n",
       "      <td>0</td>\n",
       "    </tr>\n",
       "    <tr>\n",
       "      <th>1</th>\n",
       "      <td>Afghanistan</td>\n",
       "      <td>AFG</td>\n",
       "      <td>2020-01-10</td>\n",
       "      <td>0</td>\n",
       "    </tr>\n",
       "    <tr>\n",
       "      <th>2</th>\n",
       "      <td>Afghanistan</td>\n",
       "      <td>AFG</td>\n",
       "      <td>2020-01-11</td>\n",
       "      <td>0</td>\n",
       "    </tr>\n",
       "    <tr>\n",
       "      <th>3</th>\n",
       "      <td>Afghanistan</td>\n",
       "      <td>AFG</td>\n",
       "      <td>2020-01-12</td>\n",
       "      <td>0</td>\n",
       "    </tr>\n",
       "    <tr>\n",
       "      <th>4</th>\n",
       "      <td>Afghanistan</td>\n",
       "      <td>AFG</td>\n",
       "      <td>2020-01-13</td>\n",
       "      <td>0</td>\n",
       "    </tr>\n",
       "  </tbody>\n",
       "</table>\n",
       "</div>"
      ],
      "text/plain": [
       "        Entity Code         Day  Weekly cases\n",
       "0  Afghanistan  AFG  2020-01-09             0\n",
       "1  Afghanistan  AFG  2020-01-10             0\n",
       "2  Afghanistan  AFG  2020-01-11             0\n",
       "3  Afghanistan  AFG  2020-01-12             0\n",
       "4  Afghanistan  AFG  2020-01-13             0"
      ]
     },
     "execution_count": 4,
     "metadata": {},
     "output_type": "execute_result"
    }
   ],
   "source": [
    "covid_summary.head()"
   ]
  },
  {
   "cell_type": "code",
   "execution_count": 5,
   "id": "e36692c8",
   "metadata": {},
   "outputs": [
    {
     "data": {
      "text/html": [
       "<div>\n",
       "<style scoped>\n",
       "    .dataframe tbody tr th:only-of-type {\n",
       "        vertical-align: middle;\n",
       "    }\n",
       "\n",
       "    .dataframe tbody tr th {\n",
       "        vertical-align: top;\n",
       "    }\n",
       "\n",
       "    .dataframe thead th {\n",
       "        text-align: right;\n",
       "    }\n",
       "</style>\n",
       "<table border=\"1\" class=\"dataframe\">\n",
       "  <thead>\n",
       "    <tr style=\"text-align: right;\">\n",
       "      <th></th>\n",
       "      <th>Country</th>\n",
       "      <th>Code</th>\n",
       "      <th>Date</th>\n",
       "      <th>Weekly Cases</th>\n",
       "    </tr>\n",
       "  </thead>\n",
       "  <tbody>\n",
       "    <tr>\n",
       "      <th>0</th>\n",
       "      <td>Afghanistan</td>\n",
       "      <td>AFG</td>\n",
       "      <td>2020-01-09</td>\n",
       "      <td>0</td>\n",
       "    </tr>\n",
       "    <tr>\n",
       "      <th>1</th>\n",
       "      <td>Afghanistan</td>\n",
       "      <td>AFG</td>\n",
       "      <td>2020-01-10</td>\n",
       "      <td>0</td>\n",
       "    </tr>\n",
       "    <tr>\n",
       "      <th>2</th>\n",
       "      <td>Afghanistan</td>\n",
       "      <td>AFG</td>\n",
       "      <td>2020-01-11</td>\n",
       "      <td>0</td>\n",
       "    </tr>\n",
       "    <tr>\n",
       "      <th>3</th>\n",
       "      <td>Afghanistan</td>\n",
       "      <td>AFG</td>\n",
       "      <td>2020-01-12</td>\n",
       "      <td>0</td>\n",
       "    </tr>\n",
       "    <tr>\n",
       "      <th>4</th>\n",
       "      <td>Afghanistan</td>\n",
       "      <td>AFG</td>\n",
       "      <td>2020-01-13</td>\n",
       "      <td>0</td>\n",
       "    </tr>\n",
       "  </tbody>\n",
       "</table>\n",
       "</div>"
      ],
      "text/plain": [
       "       Country Code        Date  Weekly Cases\n",
       "0  Afghanistan  AFG  2020-01-09             0\n",
       "1  Afghanistan  AFG  2020-01-10             0\n",
       "2  Afghanistan  AFG  2020-01-11             0\n",
       "3  Afghanistan  AFG  2020-01-12             0\n",
       "4  Afghanistan  AFG  2020-01-13             0"
      ]
     },
     "execution_count": 5,
     "metadata": {},
     "output_type": "execute_result"
    }
   ],
   "source": [
    "covid_summary.columns = [\n",
    "    \"Country\",\n",
    "    \"Code\",\n",
    "    \"Date\",\n",
    "    \"Weekly Cases\"\n",
    "]\n",
    "\n",
    "covid_summary.head()"
   ]
  },
  {
   "cell_type": "code",
   "execution_count": 17,
   "id": "68e35eb4",
   "metadata": {},
   "outputs": [
    {
     "name": "stdout",
     "output_type": "stream",
     "text": [
      "Country\n",
      "United States    724057803\n",
      "China            695672313\n",
      "India            315393316\n",
      "France           272982430\n",
      "Germany          269064287\n",
      "                   ...    \n",
      "Tokelau                560\n",
      "Vatican                182\n",
      "Pitcairn                28\n",
      "North Korea              0\n",
      "Turkmenistan             0\n",
      "Name: Weekly Cases, Length: 233, dtype: int64\n"
     ]
    }
   ],
   "source": [
    "cases_country = covid_summary.groupby(\"Country\")[\"Weekly Cases\"].sum()\n",
    "\n",
    "exclude = [\n",
    "    \"Africa\",\n",
    "    \"Asia\",\n",
    "    \"Asia excl. China\",\n",
    "    \"Europe\",\n",
    "    \"European Union (27)\",\n",
    "    \"High-income countries\",\n",
    "    \"Low-income countries\",\n",
    "    \"Lower-middle-income countries\",\n",
    "    \"North America\",\n",
    "    \"Oceania\",\n",
    "    \"South America\",\n",
    "    \"Upper-middle-income countries\",\n",
    "    \"World\",\n",
    "    \"World excl. China\",\n",
    "    \"World excl. China and South Korea\",\n",
    "    \"World excl. China, South Korea, Japan and Singapore\",\n",
    "    \"Japan and Singapore\",\n",
    "]\n",
    "\n",
    "filtered_data = cases_country[~cases_country.index.isin(exclude)]\n",
    "\n",
    "sorted_covid_confirmed = filtered_data.sort_values(ascending=False)\n",
    "\n",
    "print(sorted_covid_confirmed)"
   ]
  },
  {
   "cell_type": "code",
   "execution_count": 15,
   "id": "f6adaac8",
   "metadata": {},
   "outputs": [
    {
     "data": {
      "text/plain": [
       "array(['Afghanistan', 'Africa', 'Albania', 'Algeria', 'American Samoa',\n",
       "       'Andorra', 'Angola', 'Anguilla', 'Antigua and Barbuda',\n",
       "       'Argentina', 'Armenia', 'Aruba', 'Asia', 'Asia excl. China',\n",
       "       'Australia', 'Austria', 'Azerbaijan', 'Bahamas', 'Bahrain',\n",
       "       'Bangladesh', 'Barbados', 'Belarus', 'Belgium', 'Belize', 'Benin',\n",
       "       'Bermuda', 'Bhutan', 'Bolivia', 'Bonaire Sint Eustatius and Saba',\n",
       "       'Bosnia and Herzegovina', 'Botswana', 'Brazil',\n",
       "       'British Virgin Islands', 'Brunei', 'Bulgaria', 'Burkina Faso',\n",
       "       'Burundi', 'Cambodia', 'Cameroon', 'Canada', 'Cape Verde',\n",
       "       'Cayman Islands', 'Central African Republic', 'Chad', 'Chile',\n",
       "       'China', 'Colombia', 'Comoros', 'Congo', 'Cook Islands',\n",
       "       'Costa Rica', 'Croatia', 'Cuba', 'Curacao', 'Cyprus', 'Czechia',\n",
       "       'Democratic Republic of Congo', 'Denmark', 'Djibouti', 'Dominica',\n",
       "       'Dominican Republic', 'East Timor', 'Ecuador', 'Egypt',\n",
       "       'El Salvador', 'Equatorial Guinea', 'Eritrea', 'Estonia',\n",
       "       'Eswatini', 'Ethiopia', 'Europe', 'European Union (27)',\n",
       "       'Falkland Islands', 'Faroe Islands', 'Fiji', 'Finland', 'France',\n",
       "       'French Guiana', 'French Polynesia', 'Gabon', 'Gambia', 'Georgia',\n",
       "       'Germany', 'Ghana', 'Gibraltar', 'Greece', 'Greenland', 'Grenada',\n",
       "       'Guadeloupe', 'Guam', 'Guatemala', 'Guernsey', 'Guinea',\n",
       "       'Guinea-Bissau', 'Guyana', 'Haiti', 'High-income countries',\n",
       "       'Honduras', 'Hungary', 'Iceland', 'India', 'Indonesia', 'Iran',\n",
       "       'Iraq', 'Ireland', 'Isle of Man', 'Israel', 'Italy', 'Jamaica',\n",
       "       'Japan', 'Jersey', 'Jordan', 'Kazakhstan', 'Kenya', 'Kiribati',\n",
       "       'Kosovo', 'Kuwait', 'Kyrgyzstan', 'Laos', 'Latvia', 'Lebanon',\n",
       "       'Lesotho', 'Liberia', 'Libya', 'Liechtenstein', 'Lithuania',\n",
       "       'Low-income countries', 'Lower-middle-income countries',\n",
       "       'Luxembourg', 'Madagascar', 'Malawi', 'Malaysia', 'Maldives',\n",
       "       'Mali', 'Malta', 'Marshall Islands', 'Martinique', 'Mauritania',\n",
       "       'Mauritius', 'Mayotte', 'Mexico', 'Micronesia (country)',\n",
       "       'Moldova', 'Monaco', 'Mongolia', 'Montenegro', 'Montserrat',\n",
       "       'Morocco', 'Mozambique', 'Myanmar', 'Namibia', 'Nauru', 'Nepal',\n",
       "       'Netherlands', 'New Caledonia', 'New Zealand', 'Nicaragua',\n",
       "       'Niger', 'Nigeria', 'Niue', 'North America', 'North Korea',\n",
       "       'North Macedonia', 'Northern Mariana Islands', 'Norway', 'Oceania',\n",
       "       'Oman', 'Pakistan', 'Palau', 'Palestine', 'Panama',\n",
       "       'Papua New Guinea', 'Paraguay', 'Peru', 'Philippines', 'Pitcairn',\n",
       "       'Poland', 'Portugal', 'Puerto Rico', 'Qatar', 'Reunion', 'Romania',\n",
       "       'Russia', 'Rwanda', 'Saint Barthelemy', 'Saint Helena',\n",
       "       'Saint Kitts and Nevis', 'Saint Lucia',\n",
       "       'Saint Martin (French part)', 'Saint Pierre and Miquelon',\n",
       "       'Saint Vincent and the Grenadines', 'Samoa', 'San Marino',\n",
       "       'Sao Tome and Principe', 'Saudi Arabia', 'Senegal', 'Serbia',\n",
       "       'Seychelles', 'Sierra Leone', 'Singapore',\n",
       "       'Sint Maarten (Dutch part)', 'Slovakia', 'Slovenia',\n",
       "       'Solomon Islands', 'Somalia', 'South Africa', 'South America',\n",
       "       'South Korea', 'South Sudan', 'Spain', 'Sri Lanka', 'Sudan',\n",
       "       'Suriname', 'Sweden', 'Switzerland', 'Syria', 'Tajikistan',\n",
       "       'Tanzania', 'Thailand', 'Togo', 'Tokelau', 'Tonga',\n",
       "       'Trinidad and Tobago', 'Tunisia', 'Turkey', 'Turkmenistan',\n",
       "       'Turks and Caicos Islands', 'Tuvalu', 'Uganda', 'Ukraine',\n",
       "       'United Arab Emirates', 'United Kingdom', 'United States',\n",
       "       'United States Virgin Islands', 'Upper-middle-income countries',\n",
       "       'Uruguay', 'Uzbekistan', 'Vanuatu', 'Vatican', 'Venezuela',\n",
       "       'Vietnam', 'Wallis and Futuna', 'World', 'World excl. China',\n",
       "       'World excl. China and South Korea',\n",
       "       'World excl. China, South Korea, Japan and Singapore', 'Yemen',\n",
       "       'Zambia', 'Zimbabwe'], dtype=object)"
      ]
     },
     "execution_count": 15,
     "metadata": {},
     "output_type": "execute_result"
    }
   ],
   "source": [
    "country = covid_summary[\"Country\"]\n",
    "\n",
    "country.unique()"
   ]
  },
  {
   "cell_type": "code",
   "execution_count": null,
   "id": "47af50de",
   "metadata": {},
   "outputs": [],
   "source": []
  }
 ],
 "metadata": {
  "kernelspec": {
   "display_name": "Python 3",
   "language": "python",
   "name": "python3"
  },
  "language_info": {
   "codemirror_mode": {
    "name": "ipython",
    "version": 3
   },
   "file_extension": ".py",
   "mimetype": "text/x-python",
   "name": "python",
   "nbconvert_exporter": "python",
   "pygments_lexer": "ipython3",
   "version": "3.12.1"
  }
 },
 "nbformat": 4,
 "nbformat_minor": 5
}
